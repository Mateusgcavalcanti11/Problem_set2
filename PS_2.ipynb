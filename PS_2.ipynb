{
 "cells": [
  {
   "cell_type": "markdown",
   "id": "a0201fe2-3afe-4772-81bd-047c06876b5a",
   "metadata": {},
   "source": [
    "# Problem Set 2"
   ]
  },
  {
   "cell_type": "code",
   "execution_count": 102,
   "id": "c45fcf84-c221-4b13-828b-56fe7c229b6f",
   "metadata": {},
   "outputs": [],
   "source": [
    "import pandas as pd\n",
    "import numpy as np\n",
    "import matplotlib.pyplot as plt\n",
    "import os\n",
    "import seaborn as sns\n",
    "\n",
    "from functions import gini\n"
   ]
  },
  {
   "cell_type": "code",
   "execution_count": 103,
   "id": "50ba73ce-c337-43b3-b06e-290cbfba53fc",
   "metadata": {},
   "outputs": [
    {
     "name": "stdout",
     "output_type": "stream",
     "text": [
      "Requirement already satisfied: xlrd in c:\\users\\sofia\\anaconda3\\lib\\site-packages (2.0.2)\n"
     ]
    },
    {
     "data": {
      "text/html": [
       "<div>\n",
       "<style scoped>\n",
       "    .dataframe tbody tr th:only-of-type {\n",
       "        vertical-align: middle;\n",
       "    }\n",
       "\n",
       "    .dataframe tbody tr th {\n",
       "        vertical-align: top;\n",
       "    }\n",
       "\n",
       "    .dataframe thead th {\n",
       "        text-align: right;\n",
       "    }\n",
       "</style>\n",
       "<table border=\"1\" class=\"dataframe\">\n",
       "  <thead>\n",
       "    <tr style=\"text-align: right;\">\n",
       "      <th></th>\n",
       "      <th>hhid</th>\n",
       "      <th>wave</th>\n",
       "      <th>year</th>\n",
       "      <th>region</th>\n",
       "      <th>district</th>\n",
       "      <th>county</th>\n",
       "      <th>urban</th>\n",
       "      <th>year_surv</th>\n",
       "      <th>month_surv</th>\n",
       "      <th>head_gender</th>\n",
       "      <th>...</th>\n",
       "      <th>income</th>\n",
       "      <th>wage_labor</th>\n",
       "      <th>business_inc</th>\n",
       "      <th>other_inc</th>\n",
       "      <th>agriculture_inc</th>\n",
       "      <th>livestock_inc</th>\n",
       "      <th>wealth</th>\n",
       "      <th>asset_value</th>\n",
       "      <th>wealth_agrls</th>\n",
       "      <th>land_value_hat</th>\n",
       "    </tr>\n",
       "  </thead>\n",
       "  <tbody>\n",
       "    <tr>\n",
       "      <th>0</th>\n",
       "      <td>1013000204</td>\n",
       "      <td>2011-2012</td>\n",
       "      <td>2012</td>\n",
       "      <td>1</td>\n",
       "      <td>KALANGALA</td>\n",
       "      <td>KYAMUSWA</td>\n",
       "      <td>0</td>\n",
       "      <td>2012</td>\n",
       "      <td>3</td>\n",
       "      <td>1.0</td>\n",
       "      <td>...</td>\n",
       "      <td>717.277761</td>\n",
       "      <td>NaN</td>\n",
       "      <td>717.277761</td>\n",
       "      <td>0.000000</td>\n",
       "      <td>NaN</td>\n",
       "      <td>NaN</td>\n",
       "      <td>102.530580</td>\n",
       "      <td>102.530580</td>\n",
       "      <td>NaN</td>\n",
       "      <td>NaN</td>\n",
       "    </tr>\n",
       "    <tr>\n",
       "      <th>1</th>\n",
       "      <td>1013000206</td>\n",
       "      <td>2011-2012</td>\n",
       "      <td>2012</td>\n",
       "      <td>1</td>\n",
       "      <td>KAMPALA</td>\n",
       "      <td>RUBAGA DIVISION</td>\n",
       "      <td>0</td>\n",
       "      <td>2012</td>\n",
       "      <td>9</td>\n",
       "      <td>1.0</td>\n",
       "      <td>...</td>\n",
       "      <td>1839.529498</td>\n",
       "      <td>949.476802</td>\n",
       "      <td>890.052696</td>\n",
       "      <td>0.000000</td>\n",
       "      <td>NaN</td>\n",
       "      <td>NaN</td>\n",
       "      <td>821.989843</td>\n",
       "      <td>821.989843</td>\n",
       "      <td>NaN</td>\n",
       "      <td>NaN</td>\n",
       "    </tr>\n",
       "    <tr>\n",
       "      <th>2</th>\n",
       "      <td>1013000210</td>\n",
       "      <td>2011-2012</td>\n",
       "      <td>2012</td>\n",
       "      <td>1</td>\n",
       "      <td>KALANGALA</td>\n",
       "      <td>KYAMUSWA</td>\n",
       "      <td>0</td>\n",
       "      <td>2012</td>\n",
       "      <td>2</td>\n",
       "      <td>1.0</td>\n",
       "      <td>...</td>\n",
       "      <td>91.623072</td>\n",
       "      <td>NaN</td>\n",
       "      <td>NaN</td>\n",
       "      <td>0.000000</td>\n",
       "      <td>NaN</td>\n",
       "      <td>91.623072</td>\n",
       "      <td>1202.661890</td>\n",
       "      <td>268.324710</td>\n",
       "      <td>934.337180</td>\n",
       "      <td>NaN</td>\n",
       "    </tr>\n",
       "    <tr>\n",
       "      <th>3</th>\n",
       "      <td>1013000212</td>\n",
       "      <td>2011-2012</td>\n",
       "      <td>2012</td>\n",
       "      <td>4</td>\n",
       "      <td>KYEGEGWA</td>\n",
       "      <td>KYAKA</td>\n",
       "      <td>0</td>\n",
       "      <td>2012</td>\n",
       "      <td>3</td>\n",
       "      <td>1.0</td>\n",
       "      <td>...</td>\n",
       "      <td>2617.802047</td>\n",
       "      <td>1989.529555</td>\n",
       "      <td>628.272491</td>\n",
       "      <td>0.000000</td>\n",
       "      <td>NaN</td>\n",
       "      <td>NaN</td>\n",
       "      <td>494.764587</td>\n",
       "      <td>494.764587</td>\n",
       "      <td>NaN</td>\n",
       "      <td>NaN</td>\n",
       "    </tr>\n",
       "    <tr>\n",
       "      <th>4</th>\n",
       "      <td>101300021302</td>\n",
       "      <td>2011-2012</td>\n",
       "      <td>2012</td>\n",
       "      <td>1</td>\n",
       "      <td>MPIGI</td>\n",
       "      <td>MAWOKOTA</td>\n",
       "      <td>0</td>\n",
       "      <td>2012</td>\n",
       "      <td>4</td>\n",
       "      <td>2.0</td>\n",
       "      <td>...</td>\n",
       "      <td>811.518634</td>\n",
       "      <td>NaN</td>\n",
       "      <td>157.068123</td>\n",
       "      <td>654.450512</td>\n",
       "      <td>NaN</td>\n",
       "      <td>NaN</td>\n",
       "      <td>54.537543</td>\n",
       "      <td>54.537543</td>\n",
       "      <td>NaN</td>\n",
       "      <td>NaN</td>\n",
       "    </tr>\n",
       "    <tr>\n",
       "      <th>...</th>\n",
       "      <td>...</td>\n",
       "      <td>...</td>\n",
       "      <td>...</td>\n",
       "      <td>...</td>\n",
       "      <td>...</td>\n",
       "      <td>...</td>\n",
       "      <td>...</td>\n",
       "      <td>...</td>\n",
       "      <td>...</td>\n",
       "      <td>...</td>\n",
       "      <td>...</td>\n",
       "      <td>...</td>\n",
       "      <td>...</td>\n",
       "      <td>...</td>\n",
       "      <td>...</td>\n",
       "      <td>...</td>\n",
       "      <td>...</td>\n",
       "      <td>...</td>\n",
       "      <td>...</td>\n",
       "      <td>...</td>\n",
       "      <td>...</td>\n",
       "    </tr>\n",
       "    <tr>\n",
       "      <th>2608</th>\n",
       "      <td>4193003504</td>\n",
       "      <td>2011-2012</td>\n",
       "      <td>2012</td>\n",
       "      <td>4</td>\n",
       "      <td>KIRUHURA</td>\n",
       "      <td>NYABUSHOZI</td>\n",
       "      <td>0</td>\n",
       "      <td>2012</td>\n",
       "      <td>2</td>\n",
       "      <td>2.0</td>\n",
       "      <td>...</td>\n",
       "      <td>1046.796900</td>\n",
       "      <td>NaN</td>\n",
       "      <td>NaN</td>\n",
       "      <td>0.000000</td>\n",
       "      <td>1037.634593</td>\n",
       "      <td>9.162307</td>\n",
       "      <td>11837.852383</td>\n",
       "      <td>256.108300</td>\n",
       "      <td>119.109993</td>\n",
       "      <td>11462.634090</td>\n",
       "    </tr>\n",
       "    <tr>\n",
       "      <th>2609</th>\n",
       "      <td>4193003506</td>\n",
       "      <td>2011-2012</td>\n",
       "      <td>2012</td>\n",
       "      <td>4</td>\n",
       "      <td>KIRUHURA</td>\n",
       "      <td>NYABUSHOZI</td>\n",
       "      <td>0</td>\n",
       "      <td>2012</td>\n",
       "      <td>2</td>\n",
       "      <td>1.0</td>\n",
       "      <td>...</td>\n",
       "      <td>10505.763174</td>\n",
       "      <td>NaN</td>\n",
       "      <td>8376.966549</td>\n",
       "      <td>130.890102</td>\n",
       "      <td>668.412123</td>\n",
       "      <td>1329.494399</td>\n",
       "      <td>6291.311323</td>\n",
       "      <td>405.759317</td>\n",
       "      <td>4794.940749</td>\n",
       "      <td>1090.611257</td>\n",
       "    </tr>\n",
       "    <tr>\n",
       "      <th>2610</th>\n",
       "      <td>4193003507</td>\n",
       "      <td>2011-2012</td>\n",
       "      <td>2012</td>\n",
       "      <td>4</td>\n",
       "      <td>KIRUHURA</td>\n",
       "      <td>NYABUSHOZI</td>\n",
       "      <td>0</td>\n",
       "      <td>2012</td>\n",
       "      <td>2</td>\n",
       "      <td>2.0</td>\n",
       "      <td>...</td>\n",
       "      <td>1216.754391</td>\n",
       "      <td>NaN</td>\n",
       "      <td>NaN</td>\n",
       "      <td>0.000000</td>\n",
       "      <td>848.167863</td>\n",
       "      <td>368.586528</td>\n",
       "      <td>1888.801009</td>\n",
       "      <td>241.274089</td>\n",
       "      <td>271.596962</td>\n",
       "      <td>1375.929958</td>\n",
       "    </tr>\n",
       "    <tr>\n",
       "      <th>2611</th>\n",
       "      <td>4193003508</td>\n",
       "      <td>2011-2012</td>\n",
       "      <td>2012</td>\n",
       "      <td>4</td>\n",
       "      <td>KIRUHURA</td>\n",
       "      <td>NYABUSHOZI</td>\n",
       "      <td>0</td>\n",
       "      <td>2012</td>\n",
       "      <td>8</td>\n",
       "      <td>1.0</td>\n",
       "      <td>...</td>\n",
       "      <td>814.485477</td>\n",
       "      <td>NaN</td>\n",
       "      <td>NaN</td>\n",
       "      <td>0.000000</td>\n",
       "      <td>814.485477</td>\n",
       "      <td>NaN</td>\n",
       "      <td>4142.348323</td>\n",
       "      <td>842.059658</td>\n",
       "      <td>10.471208</td>\n",
       "      <td>3289.817457</td>\n",
       "    </tr>\n",
       "    <tr>\n",
       "      <th>2612</th>\n",
       "      <td>4193003509</td>\n",
       "      <td>2011-2012</td>\n",
       "      <td>2012</td>\n",
       "      <td>4</td>\n",
       "      <td>KIRUHURA</td>\n",
       "      <td>NYABUSHOZI</td>\n",
       "      <td>0</td>\n",
       "      <td>2012</td>\n",
       "      <td>8</td>\n",
       "      <td>1.0</td>\n",
       "      <td>...</td>\n",
       "      <td>1937.435295</td>\n",
       "      <td>NaN</td>\n",
       "      <td>NaN</td>\n",
       "      <td>0.000000</td>\n",
       "      <td>1314.136627</td>\n",
       "      <td>623.298667</td>\n",
       "      <td>21088.468461</td>\n",
       "      <td>796.248123</td>\n",
       "      <td>3429.320681</td>\n",
       "      <td>16862.899657</td>\n",
       "    </tr>\n",
       "  </tbody>\n",
       "</table>\n",
       "<p>2613 rows × 30 columns</p>\n",
       "</div>"
      ],
      "text/plain": [
       "              hhid       wave  year  region   district           county  \\\n",
       "0       1013000204  2011-2012  2012       1  KALANGALA         KYAMUSWA   \n",
       "1       1013000206  2011-2012  2012       1    KAMPALA  RUBAGA DIVISION   \n",
       "2       1013000210  2011-2012  2012       1  KALANGALA         KYAMUSWA   \n",
       "3       1013000212  2011-2012  2012       4   KYEGEGWA            KYAKA   \n",
       "4     101300021302  2011-2012  2012       1      MPIGI         MAWOKOTA   \n",
       "...            ...        ...   ...     ...        ...              ...   \n",
       "2608    4193003504  2011-2012  2012       4   KIRUHURA       NYABUSHOZI   \n",
       "2609    4193003506  2011-2012  2012       4   KIRUHURA       NYABUSHOZI   \n",
       "2610    4193003507  2011-2012  2012       4   KIRUHURA       NYABUSHOZI   \n",
       "2611    4193003508  2011-2012  2012       4   KIRUHURA       NYABUSHOZI   \n",
       "2612    4193003509  2011-2012  2012       4   KIRUHURA       NYABUSHOZI   \n",
       "\n",
       "      urban  year_surv  month_surv  head_gender  ...        income  \\\n",
       "0         0       2012           3          1.0  ...    717.277761   \n",
       "1         0       2012           9          1.0  ...   1839.529498   \n",
       "2         0       2012           2          1.0  ...     91.623072   \n",
       "3         0       2012           3          1.0  ...   2617.802047   \n",
       "4         0       2012           4          2.0  ...    811.518634   \n",
       "...     ...        ...         ...          ...  ...           ...   \n",
       "2608      0       2012           2          2.0  ...   1046.796900   \n",
       "2609      0       2012           2          1.0  ...  10505.763174   \n",
       "2610      0       2012           2          2.0  ...   1216.754391   \n",
       "2611      0       2012           8          1.0  ...    814.485477   \n",
       "2612      0       2012           8          1.0  ...   1937.435295   \n",
       "\n",
       "       wage_labor  business_inc   other_inc  agriculture_inc  livestock_inc  \\\n",
       "0             NaN    717.277761    0.000000              NaN            NaN   \n",
       "1      949.476802    890.052696    0.000000              NaN            NaN   \n",
       "2             NaN           NaN    0.000000              NaN      91.623072   \n",
       "3     1989.529555    628.272491    0.000000              NaN            NaN   \n",
       "4             NaN    157.068123  654.450512              NaN            NaN   \n",
       "...           ...           ...         ...              ...            ...   \n",
       "2608          NaN           NaN    0.000000      1037.634593       9.162307   \n",
       "2609          NaN   8376.966549  130.890102       668.412123    1329.494399   \n",
       "2610          NaN           NaN    0.000000       848.167863     368.586528   \n",
       "2611          NaN           NaN    0.000000       814.485477            NaN   \n",
       "2612          NaN           NaN    0.000000      1314.136627     623.298667   \n",
       "\n",
       "            wealth  asset_value  wealth_agrls  land_value_hat  \n",
       "0       102.530580   102.530580           NaN             NaN  \n",
       "1       821.989843   821.989843           NaN             NaN  \n",
       "2      1202.661890   268.324710    934.337180             NaN  \n",
       "3       494.764587   494.764587           NaN             NaN  \n",
       "4        54.537543    54.537543           NaN             NaN  \n",
       "...            ...          ...           ...             ...  \n",
       "2608  11837.852383   256.108300    119.109993    11462.634090  \n",
       "2609   6291.311323   405.759317   4794.940749     1090.611257  \n",
       "2610   1888.801009   241.274089    271.596962     1375.929958  \n",
       "2611   4142.348323   842.059658     10.471208     3289.817457  \n",
       "2612  21088.468461   796.248123   3429.320681    16862.899657  \n",
       "\n",
       "[2613 rows x 30 columns]"
      ]
     },
     "execution_count": 103,
     "metadata": {},
     "output_type": "execute_result"
    }
   ],
   "source": [
    "!pip install xlrd\n",
    "data = pd.read_excel('UNPS_1112_PS2.xls')\n",
    "data"
   ]
  },
  {
   "cell_type": "markdown",
   "id": "c0f2e698-73bd-4204-bce7-c4079c45d30d",
   "metadata": {},
   "source": [
    "#### Question 1"
   ]
  },
  {
   "cell_type": "markdown",
   "id": "d8c2108b-e5a8-476f-b877-56bf4adafba3",
   "metadata": {},
   "source": [
    "**Part a**"
   ]
  },
  {
   "cell_type": "code",
   "execution_count": 104,
   "id": "56c1fd16-9cad-4eb7-b2e6-c8e66077e32a",
   "metadata": {},
   "outputs": [
    {
     "name": "stdout",
     "output_type": "stream",
     "text": [
      "Number of duplicate household IDs: 0\n",
      "Number of unique household IDs:  2613\n"
     ]
    },
    {
     "data": {
      "text/plain": [
       "(2613, 30)"
      ]
     },
     "execution_count": 104,
     "metadata": {},
     "output_type": "execute_result"
    }
   ],
   "source": [
    "# Cleaning up the data\n",
    "duplicate_count = data[\"hhid\"].duplicated().sum()\n",
    "print(\"Number of duplicate household IDs:\", duplicate_count)\n",
    "\n",
    "unique_households = data[\"hhid\"].nunique() #Not necessary since there are no duplicates\n",
    "print(\"Number of unique household IDs: \", unique_households)\n",
    "\n",
    "data.shape # (rows, columns) meaning (households, variables)"
   ]
  },
  {
   "cell_type": "markdown",
   "id": "b690cd5e-6285-4c06-8256-699b991c7ac1",
   "metadata": {},
   "source": [
    "**Part b**"
   ]
  },
  {
   "cell_type": "code",
   "execution_count": 105,
   "id": "ddb67415-b6e6-4b85-8ef9-0dca229949f6",
   "metadata": {},
   "outputs": [
    {
     "data": {
      "text/html": [
       "<div>\n",
       "<style scoped>\n",
       "    .dataframe tbody tr th:only-of-type {\n",
       "        vertical-align: middle;\n",
       "    }\n",
       "\n",
       "    .dataframe tbody tr th {\n",
       "        vertical-align: top;\n",
       "    }\n",
       "\n",
       "    .dataframe thead th {\n",
       "        text-align: right;\n",
       "    }\n",
       "</style>\n",
       "<table border=\"1\" class=\"dataframe\">\n",
       "  <thead>\n",
       "    <tr style=\"text-align: right;\">\n",
       "      <th></th>\n",
       "      <th>head_gender</th>\n",
       "      <th>head_age</th>\n",
       "      <th>familysize</th>\n",
       "      <th>consumption</th>\n",
       "      <th>income</th>\n",
       "      <th>wealth</th>\n",
       "    </tr>\n",
       "  </thead>\n",
       "  <tbody>\n",
       "    <tr>\n",
       "      <th>count</th>\n",
       "      <td>2597.000000</td>\n",
       "      <td>2597.000000</td>\n",
       "      <td>2597.000000</td>\n",
       "      <td>2613.000000</td>\n",
       "      <td>2613.000000</td>\n",
       "      <td>2613.000000</td>\n",
       "    </tr>\n",
       "    <tr>\n",
       "      <th>mean</th>\n",
       "      <td>1.314209</td>\n",
       "      <td>46.068156</td>\n",
       "      <td>7.480554</td>\n",
       "      <td>1803.792687</td>\n",
       "      <td>1860.075795</td>\n",
       "      <td>4912.698146</td>\n",
       "    </tr>\n",
       "    <tr>\n",
       "      <th>std</th>\n",
       "      <td>0.464289</td>\n",
       "      <td>15.068960</td>\n",
       "      <td>3.712526</td>\n",
       "      <td>1308.742941</td>\n",
       "      <td>2607.517603</td>\n",
       "      <td>8359.886497</td>\n",
       "    </tr>\n",
       "    <tr>\n",
       "      <th>min</th>\n",
       "      <td>1.000000</td>\n",
       "      <td>14.000000</td>\n",
       "      <td>1.000000</td>\n",
       "      <td>250.305506</td>\n",
       "      <td>27.486921</td>\n",
       "      <td>0.000000</td>\n",
       "    </tr>\n",
       "    <tr>\n",
       "      <th>25%</th>\n",
       "      <td>1.000000</td>\n",
       "      <td>34.000000</td>\n",
       "      <td>5.000000</td>\n",
       "      <td>918.324958</td>\n",
       "      <td>471.204368</td>\n",
       "      <td>720.019916</td>\n",
       "    </tr>\n",
       "    <tr>\n",
       "      <th>50%</th>\n",
       "      <td>1.000000</td>\n",
       "      <td>44.000000</td>\n",
       "      <td>7.000000</td>\n",
       "      <td>1426.614855</td>\n",
       "      <td>1061.194208</td>\n",
       "      <td>2108.598380</td>\n",
       "    </tr>\n",
       "    <tr>\n",
       "      <th>75%</th>\n",
       "      <td>2.000000</td>\n",
       "      <td>56.000000</td>\n",
       "      <td>9.000000</td>\n",
       "      <td>2296.859516</td>\n",
       "      <td>2234.800590</td>\n",
       "      <td>5221.939857</td>\n",
       "    </tr>\n",
       "    <tr>\n",
       "      <th>max</th>\n",
       "      <td>2.000000</td>\n",
       "      <td>100.000000</td>\n",
       "      <td>33.000000</td>\n",
       "      <td>8369.898484</td>\n",
       "      <td>52137.736864</td>\n",
       "      <td>76396.339917</td>\n",
       "    </tr>\n",
       "  </tbody>\n",
       "</table>\n",
       "</div>"
      ],
      "text/plain": [
       "       head_gender     head_age   familysize  consumption        income  \\\n",
       "count  2597.000000  2597.000000  2597.000000  2613.000000   2613.000000   \n",
       "mean      1.314209    46.068156     7.480554  1803.792687   1860.075795   \n",
       "std       0.464289    15.068960     3.712526  1308.742941   2607.517603   \n",
       "min       1.000000    14.000000     1.000000   250.305506     27.486921   \n",
       "25%       1.000000    34.000000     5.000000   918.324958    471.204368   \n",
       "50%       1.000000    44.000000     7.000000  1426.614855   1061.194208   \n",
       "75%       2.000000    56.000000     9.000000  2296.859516   2234.800590   \n",
       "max       2.000000   100.000000    33.000000  8369.898484  52137.736864   \n",
       "\n",
       "             wealth  \n",
       "count   2613.000000  \n",
       "mean    4912.698146  \n",
       "std     8359.886497  \n",
       "min        0.000000  \n",
       "25%      720.019916  \n",
       "50%     2108.598380  \n",
       "75%     5221.939857  \n",
       "max    76396.339917  "
      ]
     },
     "execution_count": 105,
     "metadata": {},
     "output_type": "execute_result"
    }
   ],
   "source": [
    "data[[\"head_gender\", \"head_age\", \"familysize\", \"consumption\", \"income\", \"wealth\"]].describe()"
   ]
  },
  {
   "cell_type": "markdown",
   "id": "ee7cb894-36ba-4d25-9c43-099551225828",
   "metadata": {},
   "source": [
    "There must be missing values for head_gender, head_age and familysize since they only have 2597 observations compared to 2613. There also seems to be potential outliers in family size (33) and in income and wealth since their maximum values are so much higher than their median or even 75th precentile."
   ]
  },
  {
   "cell_type": "markdown",
   "id": "b4a34f1a-4832-4999-b968-fe917467e948",
   "metadata": {},
   "source": [
    "**Part c**"
   ]
  },
  {
   "cell_type": "code",
   "execution_count": 106,
   "id": "355d8a91-4158-4192-bbe0-baa75d9508ff",
   "metadata": {},
   "outputs": [
    {
     "name": "stdout",
     "output_type": "stream",
     "text": [
      "      head_gender  female_head\n",
      "2608          2.0            1\n",
      "2609          1.0            0\n",
      "2610          2.0            1\n",
      "2611          1.0            0\n",
      "2612          1.0            0\n"
     ]
    }
   ],
   "source": [
    "# Make a copy of the original dataset\n",
    "df1 = data.copy()\n",
    "\n",
    "# Create the dummy variable (1 = female, 0 = male), keep NaN if gender is missing\n",
    "df1['female_head'] = (df1['head_gender'] == 2.0).astype(int)\n",
    "\n",
    "# To check\n",
    "print(df1[['head_gender', 'female_head']].tail())"
   ]
  },
  {
   "cell_type": "code",
   "execution_count": 110,
   "id": "0f9e9c80-142b-4796-b3a6-06a803056243",
   "metadata": {},
   "outputs": [
    {
     "name": "stdout",
     "output_type": "stream",
     "text": [
      "Number of female heads: 816\n",
      "Number of male heads: 1797\n",
      "Total =  2613\n",
      "Percentage of female = 31.23%\n"
     ]
    }
   ],
   "source": [
    "count_female = (df1['female_head'] == 1).sum()\n",
    "print(\"Number of female heads:\", count_female)\n",
    "\n",
    "count_male = (df1['female_head'] == 0).sum()\n",
    "print(\"Number of male heads:\", count_male)\n",
    "\n",
    "total_heads = count_female + count_male\n",
    "print(\"Total = \", total_heads)\n",
    "\n",
    "percent_female_heads = (count_female / total_heads) * 100\n",
    "print(f\"Percentage of female = {percent_female_heads:.2f}%\")"
   ]
  },
  {
   "cell_type": "markdown",
   "id": "b55b1bae-90a5-429b-a2fd-e9e929fa067d",
   "metadata": {},
   "source": [
    "**Part d**"
   ]
  },
  {
   "cell_type": "code",
   "execution_count": 111,
   "id": "cbd13b31-b8d0-4ba0-af7c-662213255c57",
   "metadata": {},
   "outputs": [
    {
     "data": {
      "text/html": [
       "<div>\n",
       "<style scoped>\n",
       "    .dataframe tbody tr th:only-of-type {\n",
       "        vertical-align: middle;\n",
       "    }\n",
       "\n",
       "    .dataframe tbody tr th {\n",
       "        vertical-align: top;\n",
       "    }\n",
       "\n",
       "    .dataframe thead th {\n",
       "        text-align: right;\n",
       "    }\n",
       "</style>\n",
       "<table border=\"1\" class=\"dataframe\">\n",
       "  <thead>\n",
       "    <tr style=\"text-align: right;\">\n",
       "      <th></th>\n",
       "      <th>consumption</th>\n",
       "      <th>familysize</th>\n",
       "      <th>head_age</th>\n",
       "    </tr>\n",
       "    <tr>\n",
       "      <th>female_head</th>\n",
       "      <th></th>\n",
       "      <th></th>\n",
       "      <th></th>\n",
       "    </tr>\n",
       "  </thead>\n",
       "  <tbody>\n",
       "    <tr>\n",
       "      <th>0</th>\n",
       "      <td>1899.392959</td>\n",
       "      <td>7.720943</td>\n",
       "      <td>44.388546</td>\n",
       "    </tr>\n",
       "    <tr>\n",
       "      <th>1</th>\n",
       "      <td>1593.261206</td>\n",
       "      <td>6.955882</td>\n",
       "      <td>49.734069</td>\n",
       "    </tr>\n",
       "  </tbody>\n",
       "</table>\n",
       "</div>"
      ],
      "text/plain": [
       "             consumption  familysize   head_age\n",
       "female_head                                    \n",
       "0            1899.392959    7.720943  44.388546\n",
       "1            1593.261206    6.955882  49.734069"
      ]
     },
     "execution_count": 111,
     "metadata": {},
     "output_type": "execute_result"
    }
   ],
   "source": [
    "gender_summary = (df1.groupby('female_head')[['consumption', 'familysize', 'head_age']].mean())  \n",
    "# Using mean to calculate the average of each group\n",
    "\n",
    "gender_summary\n",
    "# Remeber that 0 corresponds to male head and 1 to female head"
   ]
  },
  {
   "cell_type": "markdown",
   "id": "7dfc34b7-f7f9-4aae-a4c7-04e449e33880",
   "metadata": {},
   "source": [
    "Average consumption is significantly higher in households with male heads and age average age is significantly higeher for female heads."
   ]
  },
  {
   "cell_type": "markdown",
   "id": "5b7a8d98-99f4-4f1d-8a5d-fef719dd0e01",
   "metadata": {},
   "source": [
    "#### Question 2"
   ]
  },
  {
   "cell_type": "markdown",
   "id": "569e23b4-19da-4735-82e8-682f6cd66d02",
   "metadata": {},
   "source": [
    "**Part a**"
   ]
  },
  {
   "cell_type": "code",
   "execution_count": 112,
   "id": "d4494f0b-f0c4-4ebb-9c81-9e44ac937ff0",
   "metadata": {},
   "outputs": [
    {
     "name": "stdout",
     "output_type": "stream",
     "text": [
      "16\n"
     ]
    }
   ],
   "source": [
    "# Preparing the data so that there are no erros when we take logs\n",
    "\n",
    "df1.dropna(axis=0) # Deletes observations including NaNs - Not a number\n",
    "\n",
    "# from the table of statistics we know that there is at least one observation with a value of 0 for wealth\n",
    "print((df1['wealth'] == 0).sum()) # Counts how many we have"
   ]
  },
  {
   "cell_type": "code",
   "execution_count": 113,
   "id": "0136b23a-64e0-4b47-814b-6fb8cbf48ae5",
   "metadata": {},
   "outputs": [
    {
     "name": "stdout",
     "output_type": "stream",
     "text": [
      "0\n"
     ]
    }
   ],
   "source": [
    "# Remove the observations that have values of 0 for wealth\n",
    "df1 = df1[(df1['wealth'] != 0)]\n",
    "print((df1['wealth'] == 0).sum()) # Check that the count is now 0"
   ]
  },
  {
   "cell_type": "code",
   "execution_count": 114,
   "id": "50e18834-72aa-4283-b1f3-b0d412f97f3b",
   "metadata": {},
   "outputs": [],
   "source": [
    "# Define the logs\n",
    "log_c = np.log(df1[\"consumption\"])\n",
    "log_inc = np.log(df1[\"income\"])\n",
    "log_w = np.log(df1[\"wealth\"])"
   ]
  },
  {
   "cell_type": "code",
   "execution_count": 115,
   "id": "55078a12-669e-4b77-bb06-7ae3e3232eb1",
   "metadata": {},
   "outputs": [
    {
     "data": {
      "image/png": "[encoded data removed]",
      "text/plain": [
       "<Figure size 800x600 with 1 Axes>"
      ]
     },
     "metadata": {},
     "output_type": "display_data"
    }
   ],
   "source": [
    "#Plotting\n",
    "plt.figure(figsize=(8,6))\n",
    "\n",
    "plt.hist(log_c, bins=100, alpha=0.5, label='Log of consumption (log_c)', density=True) \n",
    "plt.hist(log_inc, bins=100, alpha=0.5, label='Log of income (log_inc)', density=True)\n",
    "\n",
    "plt.xlabel('log(x)')\n",
    "plt.ylabel('Density')\n",
    "plt.title('Distributions of Log Consumption and Log Income')\n",
    "plt.legend()\n",
    "plt.show()"
   ]
  },
  {
   "cell_type": "markdown",
   "id": "3fab730c-efce-4c65-aa08-65242f4e6bc1",
   "metadata": {},
   "source": [
    "Both distributions look like normal distributions. Log of consumption less so due to the dip in frequency of values in what would be the median and mean (middle) and lack of tails. Log of income is also a symetric bell curve but it seems more shallow than a normal distribution.\n",
    "\n",
    "Inequality is higher in income than in consumption since the range is larger than in the log of consumtion distribution."
   ]
  },
  {
   "cell_type": "markdown",
   "id": "242c0dee-2f05-4b3b-a1dc-b2cad52b968a",
   "metadata": {},
   "source": [
    "**Part b**"
   ]
  },
  {
   "cell_type": "code",
   "execution_count": 116,
   "id": "53be9cad-9d49-444e-9fd0-3792c6cfc770",
   "metadata": {},
   "outputs": [
    {
     "name": "stdout",
     "output_type": "stream",
     "text": [
      "Variance of log(consumption) = 0.4466\n",
      "Variance of log(income) = 1.3389\n",
      "Variance of log(wealth) = 2.6772\n"
     ]
    }
   ],
   "source": [
    "# Using pandas\n",
    "var_log_c = log_c.var()\n",
    "var_log_inc = log_inc.var()\n",
    "var_log_w = log_w.var()\n",
    "\n",
    "# Rounds to 4 decimal points\n",
    "print(f\"Variance of log(consumption) = {var_log_c:0.4f}\")\n",
    "print(f\"Variance of log(income) = {var_log_inc:0.4f}\")\n",
    "print(f\"Variance of log(wealth) = {var_log_w:0.4f}\")"
   ]
  },
  {
   "cell_type": "markdown",
   "id": "1fc95359-c923-4cfb-81b5-d2a44214f5ef",
   "metadata": {},
   "source": [
    "Using table 3, column 5 from the data given:"
   ]
  },
  {
   "cell_type": "markdown",
   "id": "c5718915-6498-46ce-af79-1a0cceb45c8a",
   "metadata": {},
   "source": [
    "\n",
    "| Variance of log() | Uganda | US |\n",
    "| ------|---------------|----------------\n",
    "| Consumption | 0.4466 | 0.79 |\n",
    "| Income | 1.3389 | 0.97 |\n",
    "| Wealth | 2.6772 | 2.11 |"
   ]
  },
  {
   "cell_type": "markdown",
   "id": "6a674b5f-11ec-4ade-99b3-64dd5ea56985",
   "metadata": {},
   "source": [
    "The order of magnitude is the same for both Uganda and the US. Based on the assumption that the variance of logs is a measure of inequality, Uganda has lower consumption inequality but higher income and wealth inequality than the US."
   ]
  },
  {
   "cell_type": "markdown",
   "id": "a13faaa6-b4ac-4dbf-a3a4-ede9aa06bd18",
   "metadata": {},
   "source": [
    "**Part c**"
   ]
  },
  {
   "cell_type": "code",
   "execution_count": 117,
   "id": "dcfcb6da-f052-4c74-ae76-6e7abf3a529b",
   "metadata": {},
   "outputs": [
    {
     "data": {
      "text/html": [
       "<div>\n",
       "<style scoped>\n",
       "    .dataframe tbody tr th:only-of-type {\n",
       "        vertical-align: middle;\n",
       "    }\n",
       "\n",
       "    .dataframe tbody tr th {\n",
       "        vertical-align: top;\n",
       "    }\n",
       "\n",
       "    .dataframe thead th {\n",
       "        text-align: right;\n",
       "    }\n",
       "</style>\n",
       "<table border=\"1\" class=\"dataframe\">\n",
       "  <thead>\n",
       "    <tr style=\"text-align: right;\">\n",
       "      <th></th>\n",
       "      <th>consumption</th>\n",
       "      <th>income</th>\n",
       "      <th>wealth</th>\n",
       "    </tr>\n",
       "    <tr>\n",
       "      <th>urban</th>\n",
       "      <th></th>\n",
       "      <th></th>\n",
       "      <th></th>\n",
       "    </tr>\n",
       "  </thead>\n",
       "  <tbody>\n",
       "    <tr>\n",
       "      <th>0</th>\n",
       "      <td>1627.313595</td>\n",
       "      <td>1714.775035</td>\n",
       "      <td>4533.857241</td>\n",
       "    </tr>\n",
       "    <tr>\n",
       "      <th>1</th>\n",
       "      <td>2523.968738</td>\n",
       "      <td>2456.992260</td>\n",
       "      <td>6711.015029</td>\n",
       "    </tr>\n",
       "  </tbody>\n",
       "</table>\n",
       "</div>"
      ],
      "text/plain": [
       "       consumption       income       wealth\n",
       "urban                                       \n",
       "0      1627.313595  1714.775035  4533.857241\n",
       "1      2523.968738  2456.992260  6711.015029"
      ]
     },
     "execution_count": 117,
     "metadata": {},
     "output_type": "execute_result"
    }
   ],
   "source": [
    "# Urban is a dummy variable, like female_head\n",
    "summary = (df1.groupby('urban')[['consumption', 'income', 'wealth']].mean())  \n",
    "summary"
   ]
  },
  {
   "cell_type": "markdown",
   "id": "9ee88894-8bb8-4ed8-8f95-6a268c2fdbb1",
   "metadata": {},
   "source": [
    "The difference between urban (1) and rural (0) is large for all 3 of the variables but especially so for wealth."
   ]
  },
  {
   "cell_type": "markdown",
   "id": "6019a894-09f2-4d05-a654-e92b54817204",
   "metadata": {},
   "source": [
    "**Part d**"
   ]
  },
  {
   "cell_type": "code",
   "execution_count": 118,
   "id": "3417c8a4-924a-4da7-adbb-29ed879befab",
   "metadata": {},
   "outputs": [
    {
     "data": {
      "text/html": [
       "<div>\n",
       "<style scoped>\n",
       "    .dataframe tbody tr th:only-of-type {\n",
       "        vertical-align: middle;\n",
       "    }\n",
       "\n",
       "    .dataframe tbody tr th {\n",
       "        vertical-align: top;\n",
       "    }\n",
       "\n",
       "    .dataframe thead th {\n",
       "        text-align: right;\n",
       "    }\n",
       "</style>\n",
       "<table border=\"1\" class=\"dataframe\">\n",
       "  <thead>\n",
       "    <tr style=\"text-align: right;\">\n",
       "      <th></th>\n",
       "      <th>consumption</th>\n",
       "      <th>income</th>\n",
       "      <th>wealth</th>\n",
       "    </tr>\n",
       "    <tr>\n",
       "      <th>urban</th>\n",
       "      <th></th>\n",
       "      <th></th>\n",
       "      <th></th>\n",
       "    </tr>\n",
       "  </thead>\n",
       "  <tbody>\n",
       "    <tr>\n",
       "      <th>0</th>\n",
       "      <td>0.412732</td>\n",
       "      <td>1.345282</td>\n",
       "      <td>2.388743</td>\n",
       "    </tr>\n",
       "    <tr>\n",
       "      <th>1</th>\n",
       "      <td>0.435240</td>\n",
       "      <td>1.101915</td>\n",
       "      <td>3.920238</td>\n",
       "    </tr>\n",
       "  </tbody>\n",
       "</table>\n",
       "</div>"
      ],
      "text/plain": [
       "       consumption    income    wealth\n",
       "urban                                 \n",
       "0         0.412732  1.345282  2.388743\n",
       "1         0.435240  1.101915  3.920238"
      ]
     },
     "execution_count": 118,
     "metadata": {},
     "output_type": "execute_result"
    }
   ],
   "source": [
    "def log_variance(x):\n",
    "    return np.log(x).var()\n",
    "\n",
    "# Group by urban/rural and compute variance for each variable\n",
    "variance_summary = df1.groupby('urban').agg({'consumption': log_variance, \n",
    "                                             'income': log_variance,'wealth': log_variance}) #.round(4)\n",
    "\n",
    "# .agg() allows us to run functions to separate groups\n",
    "\n",
    "variance_summary"
   ]
  },
  {
   "cell_type": "markdown",
   "id": "298dae1f-d143-40ab-9356-0c4acb540b1b",
   "metadata": {},
   "source": [
    "**Part e**"
   ]
  },
  {
   "cell_type": "code",
   "execution_count": 119,
   "id": "0b216093-0968-4bc4-888c-5fb16ecbe52e",
   "metadata": {},
   "outputs": [
    {
     "name": "stdout",
     "output_type": "stream",
     "text": [
      "Gini coefficient of consumption: 0.3642\n",
      "Gini coefficient of income: 0.5559\n",
      "Gini coefficient of wealth: 0.6547\n"
     ]
    }
   ],
   "source": [
    "def gini(x):\n",
    "    \"\"\"Compute Gini coefficient of a numpy array\"\"\"\n",
    "    x = np.sort(x)  # sort values\n",
    "    n = len(x)\n",
    "    cum_x = np.cumsum(x)\n",
    "    return ((2 * np.sum((np.arange(1, n+1)*x))) / (n * cum_x[-1]) - (n+1)/ n)\n",
    "    \n",
    "\n",
    "gini_c = gini(df1['consumption'])\n",
    "gini_inc = gini(df1['income'])\n",
    "gini_w = gini(df1['wealth'])\n",
    "\n",
    "# Print results using f-strings\n",
    "print(f\"Gini coefficient of consumption: {gini_c:.4f}\")\n",
    "print(f\"Gini coefficient of income: {gini_inc:.4f}\")\n",
    "print(f\"Gini coefficient of wealth: {gini_w:.4f}\")"
   ]
  },
  {
   "cell_type": "markdown",
   "id": "7bd3ed96-56d8-4b8c-9eb1-8f298dbeefa7",
   "metadata": {},
   "source": [
    "Table comparing Uganda gini coefficients to those given for the US:"
   ]
  },
  {
   "cell_type": "markdown",
   "id": "944e71f4-0dec-4d05-9ee9-e1e4ffc74210",
   "metadata": {},
   "source": [
    "| Gini (rural, urban) | Uganda | US |\n",
    "| ------|---------------|----------------\n",
    "| Consumption |0.3642 | 0.41 |\n",
    "| Income | 0.5559 | 0.44 |\n",
    "| Wealth | 0.6547 | 0.79 |"
   ]
  },
  {
   "cell_type": "markdown",
   "id": "60318aa6-b77f-4c26-b1f8-7ae0e9692d0a",
   "metadata": {},
   "source": [
    "The order of magnitude is the same for both Uganda and the US. Inequality as measured by the gini coefficient is lower in Uganda for consumption but higher than the US for income and wealth. The values for income contradict our previous comparison using the variance of logs to model inequality."
   ]
  },
  {
   "cell_type": "markdown",
   "id": "1c84f88e-8593-4067-8079-f0d21fbaacd5",
   "metadata": {},
   "source": [
    "**Part f**"
   ]
  },
  {
   "cell_type": "code",
   "execution_count": null,
   "id": "a993438a-8ce0-4d42-8374-1ec4079ca21d",
   "metadata": {},
   "outputs": [],
   "source": []
  },
  {
   "cell_type": "code",
   "execution_count": 120,
   "id": "f76e8fda-54db-405c-90f3-db85cc6bab9e",
   "metadata": {},
   "outputs": [
    {
     "name": "stdout",
     "output_type": "stream",
     "text": [
      "Nan Count:  0\n",
      "\n",
      "Half of the observations for wealth:  1306\n",
      "Total wealth of the least wealthy half:  1053980.0408653014\n",
      "Total wealth of all observations:  12836880.255180921\n",
      "\n",
      "Share of the wealth held by the bottom 50% (rounded to 3 decimal places) is 8.211%\n"
     ]
    }
   ],
   "source": [
    "# Using the original data set to include those with 0 wealth\n",
    "\n",
    " # NaNs are automatically excluded\n",
    "print(\"Nan Count: \", data['wealth'].isna().sum())  # But we didn't have any to start with\n",
    "print()\n",
    "\n",
    "\n",
    "w_idx = int(len(data)*0.5) # Otherwise we have 1306.5 observations\n",
    "print(\"Half of the observations for wealth: \", w_idx)\n",
    "\n",
    "least_w_half = data.nsmallest(w_idx, 'wealth')  # Effectively creating a new dataset with only the lower half\n",
    "\n",
    "sum_least_wealth_half = least_w_half['wealth'].sum()\n",
    "print(\"Total wealth of the least wealthy half: \", sum_least_wealth_half)\n",
    "\n",
    "sum_wealth = data['wealth'].sum()\n",
    "print(\"Total wealth of all observations: \", sum_wealth)\n",
    "\n",
    "print()\n",
    "\n",
    "w_share_lower_half = (sum_least_wealth_half / sum_wealth) *100\n",
    "\n",
    "print(f\"Share of the wealth held by the bottom 50% (rounded to 3 decimal places) is {w_share_lower_half:0.3f}%\")"
   ]
  },
  {
   "cell_type": "code",
   "execution_count": 121,
   "id": "7af61a73-d9ce-427d-87fe-b330b6e36f01",
   "metadata": {},
   "outputs": [
    {
     "name": "stdout",
     "output_type": "stream",
     "text": [
      "Total wealth: 12,836,880.255\n",
      "\n",
      "Wealth shares, rounded to 3 decimal places:\n",
      "  Bottom 50%:\t 8.211%\n",
      "  Top 10%:\t 51.106%\n",
      "  Top 5%:\t 35.248%\n",
      "  Top 1%:\t 11.909%\n"
     ]
    }
   ],
   "source": [
    "\n",
    "# Sort by wealth\n",
    "data_no_nan = data.dropna(subset=['wealth'])\n",
    "data_sorted = data_no_nan.sort_values(by='wealth', ascending=True)\n",
    "\n",
    "# Convert wealth to numpy array\n",
    "var_array = data_sorted['wealth'].to_numpy()\n",
    "\n",
    "# Sum all the wealth values of the array\n",
    "total_wealth = var_array.sum()\n",
    "n = len(var_array) # Number of observations\n",
    "\n",
    "# bottom 50%, top 10%, 5%, 1% since it is ascending\n",
    "shares = [0.5, 0.9, 0.95, 0.99]  \n",
    "\n",
    "# Find the index of each array \n",
    "percentiles = n * np.array(bottom) \n",
    "percentiles = percentiles.tolist() # Convert to list as per lab, but we don't need to?\n",
    "\n",
    "# Convert to integer indices, so that n != x.5 observations \n",
    "percentiles = [int(x) for x in percentiles]\n",
    "\n",
    "# Sums of wealth for each index\n",
    "bottom_50_sum = var_array[:percentiles[0]].sum()\n",
    "top_10_sum = var_array[percentiles[1]:].sum()\n",
    "top_5_sum = var_array[percentiles[2]:].sum()\n",
    "top_1_sum = var_array[percentiles[3]:].sum()\n",
    "\n",
    "# Shares of total wealth\n",
    "share_bottom_50 = (bottom_50_sum / total_wealth) * 100\n",
    "share_top_10 = (top_10_sum / total_wealth) * 100\n",
    "share_top_5 = (top_5_sum / total_wealth) * 100\n",
    "share_top_1 = (top_1_sum / total_wealth) * 100\n",
    "\n",
    "# Formating results\n",
    "print(f\"Total wealth: {total_wealth:,.3f}\\n\")\n",
    "\n",
    "print(\"Wealth shares, rounded to 3 decimal places:\")\n",
    "print(f\"  Bottom 50%:\\t {share_bottom_50:0.3f}%\")\n",
    "print(f\"  Top 10%:\\t {share_top_10:0.3f}%\")\n",
    "print(f\"  Top 5%:\\t {share_top_5:0.3f}%\")\n",
    "print(f\"  Top 1%:\\t {share_top_1:0.3f}%\")\n"
   ]
  },
  {
   "cell_type": "markdown",
   "id": "b4847066-e775-4e33-9065-fab274b908de",
   "metadata": {},
   "source": [
    "**Part g**"
   ]
  },
  {
   "cell_type": "markdown",
   "id": "080fd4e6-1e75-47c1-b0ae-1b5115dc2b14",
   "metadata": {},
   "source": [
    "-------------------------------Discussion--------------"
   ]
  },
  {
   "cell_type": "markdown",
   "id": "696210fc-1c03-4ddd-bf73-64029ad011c7",
   "metadata": {},
   "source": [
    "**Part h**"
   ]
  },
  {
   "cell_type": "markdown",
   "id": "3914a29f-69d4-43d1-8e85-3b921b84466b",
   "metadata": {},
   "source": [
    "-------------------------------Discussion--------------"
   ]
  },
  {
   "cell_type": "markdown",
   "id": "a81d6a23-6d01-40bf-bf7e-9eee6e74bc95",
   "metadata": {},
   "source": [
    "#### Question 3"
   ]
  },
  {
   "cell_type": "markdown",
   "id": "79dd4a36-c2ac-427e-96f4-bd69ef9584c8",
   "metadata": {},
   "source": [
    "Preliminary data handling"
   ]
  },
  {
   "cell_type": "code",
   "execution_count": 122,
   "id": "26f73e49-d169-497f-aad9-a3a9d06ee8f5",
   "metadata": {},
   "outputs": [
    {
     "name": "stdout",
     "output_type": "stream",
     "text": [
      "Index(['hhid', 'wave', 'year', 'region', 'district', 'county', 'urban',\n",
      "       'year_surv', 'month_surv', 'head_gender', 'head_age', 'head_ethnic',\n",
      "       'head_writeread_yes', 'head_classeduc', 'familysize', 'consumption',\n",
      "       'cfood', 'cnodur', 'cdur', 'cfood_gift', 'income', 'wage_labor',\n",
      "       'business_inc', 'other_inc', 'agriculture_inc', 'livestock_inc',\n",
      "       'wealth', 'asset_value', 'wealth_agrls', 'land_value_hat',\n",
      "       'female_head'],\n",
      "      dtype='object')\n"
     ]
    },
    {
     "data": {
      "text/plain": [
       "2608    41.0\n",
       "2609    51.0\n",
       "2610    60.0\n",
       "2611    84.0\n",
       "2612    45.0\n",
       "Name: head_age, dtype: float64"
      ]
     },
     "execution_count": 122,
     "metadata": {},
     "output_type": "execute_result"
    }
   ],
   "source": [
    "print(df1.columns)\n",
    "data[\"head_age\"].tail()"
   ]
  },
  {
   "cell_type": "code",
   "execution_count": 162,
   "id": "2e889bad-88ca-473c-a263-030a4c45514a",
   "metadata": {},
   "outputs": [
    {
     "data": {
      "text/plain": [
       "0       35.0\n",
       "1       32.0\n",
       "2       39.0\n",
       "3       51.0\n",
       "4       29.0\n",
       "        ... \n",
       "2607    33.0\n",
       "2608    41.0\n",
       "2609    51.0\n",
       "2610    60.0\n",
       "2612    45.0\n",
       "Name: head_age, Length: 2524, dtype: float64"
      ]
     },
     "execution_count": 162,
     "metadata": {},
     "output_type": "execute_result"
    }
   ],
   "source": [
    "df2 = (df1.loc[(df1['head_age'] >= 18) & (df1['head_age'] <= 80)].copy())\n",
    "\n",
    "# Exploring\n",
    "df2[\"head_age\"]"
   ]
  },
  {
   "cell_type": "code",
   "execution_count": 170,
   "id": "3e9d327a-01d2-4e7a-a7a8-303c3edf8260",
   "metadata": {},
   "outputs": [],
   "source": [
    "# Grouping ages into bins\n",
    "bins = [18, 29, 44, 59, 80]\n",
    "labels = ['18–29', '30–44', '45–59', '60–80']\n",
    "\n",
    "# Create new column with the bins so that we can use these in the plots\n",
    "df2.loc[:, 'age_group'] = pd.cut(df2['head_age'], bins=bins, labels=labels, right=True)\n",
    "\n",
    "\n",
    "#df2['age_group'] = pd.cut(df2['head_age'], bins=bins, labels=labels, right=True), this gave me an error that \n",
    "#could also be solve via copy\n"
   ]
  },
  {
   "cell_type": "markdown",
   "id": "01f16d2d-50cb-439a-b24a-a081977593d2",
   "metadata": {},
   "source": [
    "**Part a**"
   ]
  },
  {
   "cell_type": "code",
   "execution_count": 164,
   "id": "34329dec-9fcb-4645-8cfd-1bc4b5c4e994",
   "metadata": {},
   "outputs": [
    {
     "data": {
      "text/plain": [
       "Index(['hhid', 'wave', 'year', 'region', 'district', 'county', 'urban',\n",
       "       'year_surv', 'month_surv', 'head_gender', 'head_age', 'head_ethnic',\n",
       "       'head_writeread_yes', 'head_classeduc', 'familysize', 'consumption',\n",
       "       'cfood', 'cnodur', 'cdur', 'cfood_gift', 'income', 'wage_labor',\n",
       "       'business_inc', 'other_inc', 'agriculture_inc', 'livestock_inc',\n",
       "       'wealth', 'asset_value', 'wealth_agrls', 'land_value_hat',\n",
       "       'female_head', 'age_group'],\n",
       "      dtype='object')"
      ]
     },
     "execution_count": 164,
     "metadata": {},
     "output_type": "execute_result"
    }
   ],
   "source": [
    "df2.columns"
   ]
  },
  {
   "cell_type": "code",
   "execution_count": 165,
   "id": "0fe45b83-0f34-475b-b955-0dee95fdab26",
   "metadata": {},
   "outputs": [
    {
     "name": "stdout",
     "output_type": "stream",
     "text": [
      "   head_age  head_gender  female_head age_group\n",
      "0      35.0          1.0            0     30–44\n",
      "1      32.0          1.0            0     30–44\n",
      "2      39.0          1.0            0     30–44\n",
      "3      51.0          1.0            0     45–59\n",
      "4      29.0          2.0            1     18–29\n"
     ]
    }
   ],
   "source": [
    "print(df2[['head_age', 'head_gender', 'female_head', 'age_group']].head())"
   ]
  },
  {
   "cell_type": "code",
   "execution_count": 177,
   "id": "96623faf-e681-455e-a36e-49d6be8c83d6",
   "metadata": {},
   "outputs": [
    {
     "data": {
      "image/png": "[encoded data removed]",
      "text/plain": [
       "<Figure size 800x400 with 1 Axes>"
      ]
     },
     "metadata": {},
     "output_type": "display_data"
    }
   ],
   "source": [
    "df2.loc[:, 'log_consumption'] = np.log(df2['consumption'])\n",
    "\n",
    "# Calaculate the mean log to keep the plot tidy\n",
    "# reset_index() allows seaborn to read the data\n",
    "df2_grouped = df2.groupby(['age_group', 'female_head'], observed=True)['log_consumption'].mean().reset_index()\n",
    "\n",
    "\n",
    "plt.figure(figsize=(8,4))\n",
    "sns.lineplot(\n",
    "    data=df2_grouped,\n",
    "    x='age_group',\n",
    "    y='log_consumption',\n",
    "    hue='female_head',\n",
    "    marker='o',\n",
    "    errorbar= None\n",
    ")\n",
    "\n",
    "plt.xlabel('Age Group of Household Head')\n",
    "plt.ylabel('Average Log Consumption')\n",
    "plt.title('Lifecycle of log(consumption) by Gender of Head')\n",
    "plt.legend(title='Head Gender', labels=['Male Head', 'Female Head'])\n",
    "plt.grid(True)\n",
    "plt.show()\n",
    "\n"
   ]
  },
  {
   "cell_type": "markdown",
   "id": "61b5415b-dd67-4165-ac36-5bdc97214233",
   "metadata": {},
   "source": [
    "**Part b**"
   ]
  },
  {
   "cell_type": "markdown",
   "id": "7cf3c920-edd6-4c65-b9ff-4d209527fe1c",
   "metadata": {},
   "source": [
    "**(i)**"
   ]
  },
  {
   "cell_type": "code",
   "execution_count": 179,
   "id": "5d894aca-a60c-497e-acdb-eef98e1d6f1c",
   "metadata": {},
   "outputs": [
    {
     "data": {
      "image/png": "[encoded data removed]",
      "text/plain": [
       "<Figure size 800x400 with 1 Axes>"
      ]
     },
     "metadata": {},
     "output_type": "display_data"
    }
   ],
   "source": [
    "df2.loc[:, 'log_income'] = np.log(df2['income'])\n",
    "\n",
    "\n",
    "\n",
    "df2_grouped = df2.groupby(['age_group', 'female_head'], observed=True)['log_income'].mean().reset_index()\n",
    "\n",
    "\n",
    "plt.figure(figsize=(8,4))\n",
    "sns.lineplot(\n",
    "    data=df2_grouped,\n",
    "    x='age_group',\n",
    "    y='log_income',\n",
    "    hue='female_head',\n",
    "    marker='o',\n",
    "    errorbar= None\n",
    ")\n",
    "\n",
    "plt.xlabel('Age Group of Household Head')\n",
    "plt.ylabel('Average log(Income)')\n",
    "plt.title('Lifecycle of log(Income) by Gender of Head')\n",
    "plt.legend(title='Head Gender', labels=['Male Head', 'Female Head'])\n",
    "plt.grid(True)\n",
    "plt.show()\n"
   ]
  },
  {
   "cell_type": "markdown",
   "id": "8327f6c1-eff1-4fa8-8c89-62789a57832d",
   "metadata": {},
   "source": [
    "**(ii)**"
   ]
  },
  {
   "cell_type": "code",
   "execution_count": 176,
   "id": "a02ae36f-feff-4bcd-99ea-de330cf05f7b",
   "metadata": {},
   "outputs": [
    {
     "data": {
      "image/png": "[encoded data removed]",
      "text/plain": [
       "<Figure size 800x400 with 1 Axes>"
      ]
     },
     "metadata": {},
     "output_type": "display_data"
    }
   ],
   "source": [
    "df2.loc[:, 'log_wealth'] = np.log(df2['wealth'])\n",
    "\n",
    "\n",
    "\n",
    "df2_grouped = df2.groupby(['age_group', 'female_head'], observed=True)['log_wealth'].mean().reset_index()\n",
    "\n",
    "\n",
    "plt.figure(figsize=(8,4))\n",
    "sns.lineplot(\n",
    "    data=df2_grouped,\n",
    "    x='age_group',\n",
    "    y='log_wealth',\n",
    "    hue='female_head',\n",
    "    marker='o',\n",
    "    errorbar= None\n",
    ")\n",
    "\n",
    "plt.xlabel('Age Group of Household Head')\n",
    "plt.ylabel('Average Log Wealth')\n",
    "plt.title('Lifecycle of log(Wealth) by Gender of Head')\n",
    "plt.legend(title='Head Gender', labels=['Male Head', 'Female Head'])\n",
    "plt.grid(True)\n",
    "plt.show()"
   ]
  },
  {
   "cell_type": "markdown",
   "id": "02b5bff2-d93e-4f3a-a994-eb6248e82b18",
   "metadata": {},
   "source": [
    "**Part c**"
   ]
  },
  {
   "cell_type": "markdown",
   "id": "399a3433-edfa-4099-bdb3-575078fd25e5",
   "metadata": {},
   "source": [
    "Overall: For all variables the growth/decline rates of \n",
    "\n",
    "Consumption:\n",
    "\n",
    "Income:\n",
    "\n",
    "Wealth:"
   ]
  },
  {
   "cell_type": "code",
   "execution_count": null,
   "id": "55b7d321-e7a1-4c71-a63d-69e07a2a24ca",
   "metadata": {},
   "outputs": [],
   "source": []
  }
 ],
 "metadata": {
  "kernelspec": {
   "display_name": "Python [conda env:base] *",
   "language": "python",
   "name": "conda-base-py"
  },
  "language_info": {
   "codemirror_mode": {
    "name": "ipython",
    "version": 3
   },
   "file_extension": ".py",
   "mimetype": "text/x-python",
   "name": "python",
   "nbconvert_exporter": "python",
   "pygments_lexer": "ipython3",
   "version": "3.13.5"
  }
 },
 "nbformat": 4,
 "nbformat_minor": 5
}
